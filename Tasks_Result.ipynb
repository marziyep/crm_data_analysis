{
 "cells": [
  {
   "cell_type": "code",
   "execution_count": 1,
   "id": "6973488c",
   "metadata": {},
   "outputs": [],
   "source": [
    "import pandas as pd\n",
    "import matplotlib.pyplot as plt"
   ]
  },
  {
   "cell_type": "code",
   "execution_count": 2,
   "id": "0412910f",
   "metadata": {
    "scrolled": true
   },
   "outputs": [],
   "source": [
    "table1=pd.read_excel(\"Test excel.xlsx\",header=20,usecols=(\"A:E\"),nrows=101)"
   ]
  },
  {
   "cell_type": "code",
   "execution_count": 3,
   "id": "e70e8bf1",
   "metadata": {},
   "outputs": [],
   "source": [
    "table2=pd.read_excel(\"Test excel.xlsx\",header=20,usecols=(\"G:K\"))"
   ]
  },
  {
   "cell_type": "code",
   "execution_count": 4,
   "id": "b3025a56",
   "metadata": {},
   "outputs": [
    {
     "data": {
      "text/html": [
       "<div>\n",
       "<style scoped>\n",
       "    .dataframe tbody tr th:only-of-type {\n",
       "        vertical-align: middle;\n",
       "    }\n",
       "\n",
       "    .dataframe tbody tr th {\n",
       "        vertical-align: top;\n",
       "    }\n",
       "\n",
       "    .dataframe thead th {\n",
       "        text-align: right;\n",
       "    }\n",
       "</style>\n",
       "<table border=\"1\" class=\"dataframe\">\n",
       "  <thead>\n",
       "    <tr style=\"text-align: right;\">\n",
       "      <th></th>\n",
       "      <th>name</th>\n",
       "      <th>Status</th>\n",
       "      <th>Type</th>\n",
       "      <th>Company Name</th>\n",
       "      <th>Amount</th>\n",
       "    </tr>\n",
       "  </thead>\n",
       "  <tbody>\n",
       "    <tr>\n",
       "      <th>0</th>\n",
       "      <td>Asia&amp;flash L</td>\n",
       "      <td>Success</td>\n",
       "      <td>Deposits</td>\n",
       "      <td>AD</td>\n",
       "      <td>155364.61</td>\n",
       "    </tr>\n",
       "    <tr>\n",
       "      <th>1</th>\n",
       "      <td>Asia&amp;flash L</td>\n",
       "      <td>Success</td>\n",
       "      <td>Deposits</td>\n",
       "      <td>AF</td>\n",
       "      <td>11679.29</td>\n",
       "    </tr>\n",
       "    <tr>\n",
       "      <th>2</th>\n",
       "      <td>Asia&amp;flash L</td>\n",
       "      <td>Fail</td>\n",
       "      <td>Deposits</td>\n",
       "      <td>AG</td>\n",
       "      <td>86071.89</td>\n",
       "    </tr>\n",
       "    <tr>\n",
       "      <th>3</th>\n",
       "      <td>Asia&amp;flash L</td>\n",
       "      <td>Success</td>\n",
       "      <td>Deposits</td>\n",
       "      <td>AI</td>\n",
       "      <td>593.00</td>\n",
       "    </tr>\n",
       "    <tr>\n",
       "      <th>4</th>\n",
       "      <td>Asia&amp;flash L</td>\n",
       "      <td>Success</td>\n",
       "      <td>Chargeback</td>\n",
       "      <td>AL</td>\n",
       "      <td>10.00</td>\n",
       "    </tr>\n",
       "  </tbody>\n",
       "</table>\n",
       "</div>"
      ],
      "text/plain": [
       "           name   Status        Type Company Name     Amount\n",
       "0  Asia&flash L  Success    Deposits           AD  155364.61\n",
       "1  Asia&flash L  Success    Deposits           AF   11679.29\n",
       "2  Asia&flash L     Fail    Deposits           AG   86071.89\n",
       "3  Asia&flash L  Success    Deposits           AI     593.00\n",
       "4  Asia&flash L  Success  Chargeback           AL      10.00"
      ]
     },
     "execution_count": 4,
     "metadata": {},
     "output_type": "execute_result"
    }
   ],
   "source": [
    "table1.head()"
   ]
  },
  {
   "cell_type": "code",
   "execution_count": 5,
   "id": "82d0bf16",
   "metadata": {},
   "outputs": [
    {
     "data": {
      "text/html": [
       "<div>\n",
       "<style scoped>\n",
       "    .dataframe tbody tr th:only-of-type {\n",
       "        vertical-align: middle;\n",
       "    }\n",
       "\n",
       "    .dataframe tbody tr th {\n",
       "        vertical-align: top;\n",
       "    }\n",
       "\n",
       "    .dataframe thead th {\n",
       "        text-align: right;\n",
       "    }\n",
       "</style>\n",
       "<table border=\"1\" class=\"dataframe\">\n",
       "  <thead>\n",
       "    <tr style=\"text-align: right;\">\n",
       "      <th></th>\n",
       "      <th>name.1</th>\n",
       "      <th>Status.1</th>\n",
       "      <th>Type.1</th>\n",
       "      <th>Company Name.1</th>\n",
       "      <th>Amount.1</th>\n",
       "    </tr>\n",
       "  </thead>\n",
       "  <tbody>\n",
       "    <tr>\n",
       "      <th>0</th>\n",
       "      <td>Asia&amp;flash A</td>\n",
       "      <td>Success</td>\n",
       "      <td>Withdraw</td>\n",
       "      <td>ZW</td>\n",
       "      <td>34860.49</td>\n",
       "    </tr>\n",
       "    <tr>\n",
       "      <th>1</th>\n",
       "      <td>Asia&amp;flash L</td>\n",
       "      <td>Success</td>\n",
       "      <td>Withdraw</td>\n",
       "      <td>ZW</td>\n",
       "      <td>128111.67</td>\n",
       "    </tr>\n",
       "    <tr>\n",
       "      <th>2</th>\n",
       "      <td>Asia&amp;flash A</td>\n",
       "      <td>Success</td>\n",
       "      <td>Withdraw</td>\n",
       "      <td>ZW</td>\n",
       "      <td>4114926.00</td>\n",
       "    </tr>\n",
       "    <tr>\n",
       "      <th>3</th>\n",
       "      <td>Asia&amp;flash L</td>\n",
       "      <td>Success</td>\n",
       "      <td>Withdraw</td>\n",
       "      <td>ZW</td>\n",
       "      <td>10964.42</td>\n",
       "    </tr>\n",
       "    <tr>\n",
       "      <th>4</th>\n",
       "      <td>Asia&amp;flash L</td>\n",
       "      <td>Success</td>\n",
       "      <td>Withdraw</td>\n",
       "      <td>GF</td>\n",
       "      <td>3950.00</td>\n",
       "    </tr>\n",
       "  </tbody>\n",
       "</table>\n",
       "</div>"
      ],
      "text/plain": [
       "         name.1 Status.1    Type.1 Company Name.1    Amount.1\n",
       "0  Asia&flash A  Success  Withdraw             ZW    34860.49\n",
       "1  Asia&flash L  Success  Withdraw             ZW   128111.67\n",
       "2  Asia&flash A  Success  Withdraw             ZW  4114926.00\n",
       "3  Asia&flash L  Success  Withdraw             ZW    10964.42\n",
       "4  Asia&flash L  Success  Withdraw             GF     3950.00"
      ]
     },
     "execution_count": 5,
     "metadata": {},
     "output_type": "execute_result"
    }
   ],
   "source": [
    "table2.head()"
   ]
  },
  {
   "cell_type": "code",
   "execution_count": 6,
   "id": "417f1e8d",
   "metadata": {},
   "outputs": [],
   "source": [
    "table2.columns=['name', 'Status', 'Type', 'Company Name', 'Amount']"
   ]
  },
  {
   "cell_type": "markdown",
   "id": "9a907bda-bdf0-47aa-848a-97b89f9390c5",
   "metadata": {},
   "source": [
    "<center><h1><b>Task_1 | First part</b></h1></center>"
   ]
  },
  {
   "attachments": {},
   "cell_type": "markdown",
   "id": "a948840e",
   "metadata": {},
   "source": [
    "<b>1. Find discrepancy in two tables (Table 1 and Table 2) by amounts by types of transactions -If transaction was succeeded\t\n",
    "Deposits/widraw/refund/chargback</b>\n",
    "\n"
   ]
  },
  {
   "cell_type": "code",
   "execution_count": 7,
   "id": "de67d2d8",
   "metadata": {},
   "outputs": [
    {
     "data": {
      "text/html": [
       "<div>\n",
       "<style scoped>\n",
       "    .dataframe tbody tr th:only-of-type {\n",
       "        vertical-align: middle;\n",
       "    }\n",
       "\n",
       "    .dataframe tbody tr th {\n",
       "        vertical-align: top;\n",
       "    }\n",
       "\n",
       "    .dataframe thead th {\n",
       "        text-align: right;\n",
       "    }\n",
       "</style>\n",
       "<table border=\"1\" class=\"dataframe\">\n",
       "  <thead>\n",
       "    <tr style=\"text-align: right;\">\n",
       "      <th></th>\n",
       "      <th>name</th>\n",
       "      <th>Status</th>\n",
       "      <th>Type</th>\n",
       "      <th>Company Name</th>\n",
       "      <th>Amount</th>\n",
       "    </tr>\n",
       "  </thead>\n",
       "  <tbody>\n",
       "    <tr>\n",
       "      <th>0</th>\n",
       "      <td>Asia&amp;flash L</td>\n",
       "      <td>Success</td>\n",
       "      <td>Deposits</td>\n",
       "      <td>AD</td>\n",
       "      <td>155364.61</td>\n",
       "    </tr>\n",
       "    <tr>\n",
       "      <th>1</th>\n",
       "      <td>Asia&amp;flash L</td>\n",
       "      <td>Success</td>\n",
       "      <td>Deposits</td>\n",
       "      <td>AF</td>\n",
       "      <td>11679.29</td>\n",
       "    </tr>\n",
       "    <tr>\n",
       "      <th>2</th>\n",
       "      <td>Asia&amp;flash L</td>\n",
       "      <td>Fail</td>\n",
       "      <td>Deposits</td>\n",
       "      <td>AG</td>\n",
       "      <td>86071.89</td>\n",
       "    </tr>\n",
       "    <tr>\n",
       "      <th>3</th>\n",
       "      <td>Asia&amp;flash L</td>\n",
       "      <td>Success</td>\n",
       "      <td>Deposits</td>\n",
       "      <td>AI</td>\n",
       "      <td>593.00</td>\n",
       "    </tr>\n",
       "    <tr>\n",
       "      <th>4</th>\n",
       "      <td>Asia&amp;flash L</td>\n",
       "      <td>Success</td>\n",
       "      <td>Chargeback</td>\n",
       "      <td>AL</td>\n",
       "      <td>10.00</td>\n",
       "    </tr>\n",
       "  </tbody>\n",
       "</table>\n",
       "</div>"
      ],
      "text/plain": [
       "           name   Status        Type Company Name     Amount\n",
       "0  Asia&flash L  Success    Deposits           AD  155364.61\n",
       "1  Asia&flash L  Success    Deposits           AF   11679.29\n",
       "2  Asia&flash L     Fail    Deposits           AG   86071.89\n",
       "3  Asia&flash L  Success    Deposits           AI     593.00\n",
       "4  Asia&flash L  Success  Chargeback           AL      10.00"
      ]
     },
     "execution_count": 7,
     "metadata": {},
     "output_type": "execute_result"
    }
   ],
   "source": [
    "table1.head()"
   ]
  },
  {
   "cell_type": "code",
   "execution_count": 8,
   "id": "1b0c7891",
   "metadata": {},
   "outputs": [
    {
     "data": {
      "text/plain": [
       "array(['Success', 'Fail'], dtype=object)"
      ]
     },
     "execution_count": 8,
     "metadata": {},
     "output_type": "execute_result"
    }
   ],
   "source": [
    "table1['Status'].unique()"
   ]
  },
  {
   "cell_type": "code",
   "execution_count": 9,
   "id": "edd31ab5",
   "metadata": {},
   "outputs": [],
   "source": [
    "table1_success=table1[table1['Status']=='Success']"
   ]
  },
  {
   "cell_type": "code",
   "execution_count": 10,
   "id": "21050fe5",
   "metadata": {},
   "outputs": [],
   "source": [
    "table1_result=pd.DataFrame(table1_success.groupby(by=\"Type\")[\"Amount\"].sum())"
   ]
  },
  {
   "cell_type": "code",
   "execution_count": 11,
   "id": "3b925a5b-96d5-4cac-854b-a578a2baf3b1",
   "metadata": {},
   "outputs": [
    {
     "data": {
      "text/html": [
       "<div>\n",
       "<style scoped>\n",
       "    .dataframe tbody tr th:only-of-type {\n",
       "        vertical-align: middle;\n",
       "    }\n",
       "\n",
       "    .dataframe tbody tr th {\n",
       "        vertical-align: top;\n",
       "    }\n",
       "\n",
       "    .dataframe thead th {\n",
       "        text-align: right;\n",
       "    }\n",
       "</style>\n",
       "<table border=\"1\" class=\"dataframe\">\n",
       "  <thead>\n",
       "    <tr style=\"text-align: right;\">\n",
       "      <th></th>\n",
       "      <th>Amount</th>\n",
       "    </tr>\n",
       "    <tr>\n",
       "      <th>Type</th>\n",
       "      <th></th>\n",
       "    </tr>\n",
       "  </thead>\n",
       "  <tbody>\n",
       "    <tr>\n",
       "      <th>Chargeback</th>\n",
       "      <td>12980.00</td>\n",
       "    </tr>\n",
       "    <tr>\n",
       "      <th>Deposits</th>\n",
       "      <td>69479740.54</td>\n",
       "    </tr>\n",
       "    <tr>\n",
       "      <th>Refund</th>\n",
       "      <td>51109.95</td>\n",
       "    </tr>\n",
       "    <tr>\n",
       "      <th>Withdraw</th>\n",
       "      <td>56343731.40</td>\n",
       "    </tr>\n",
       "  </tbody>\n",
       "</table>\n",
       "</div>"
      ],
      "text/plain": [
       "                 Amount\n",
       "Type                   \n",
       "Chargeback     12980.00\n",
       "Deposits    69479740.54\n",
       "Refund         51109.95\n",
       "Withdraw    56343731.40"
      ]
     },
     "execution_count": 11,
     "metadata": {},
     "output_type": "execute_result"
    }
   ],
   "source": [
    "table1_result"
   ]
  },
  {
   "cell_type": "code",
   "execution_count": 12,
   "id": "2368cf69",
   "metadata": {},
   "outputs": [],
   "source": [
    "table2_success=table2[table2[\"Status\"]=='Success']"
   ]
  },
  {
   "cell_type": "code",
   "execution_count": 13,
   "id": "207d9c65",
   "metadata": {},
   "outputs": [],
   "source": [
    "table2_result=pd.DataFrame(table2_success.groupby('Type')[\"Amount\"].sum())"
   ]
  },
  {
   "cell_type": "code",
   "execution_count": 14,
   "id": "46fe32e2",
   "metadata": {},
   "outputs": [
    {
     "data": {
      "text/html": [
       "<div>\n",
       "<style scoped>\n",
       "    .dataframe tbody tr th:only-of-type {\n",
       "        vertical-align: middle;\n",
       "    }\n",
       "\n",
       "    .dataframe tbody tr th {\n",
       "        vertical-align: top;\n",
       "    }\n",
       "\n",
       "    .dataframe thead th {\n",
       "        text-align: right;\n",
       "    }\n",
       "</style>\n",
       "<table border=\"1\" class=\"dataframe\">\n",
       "  <thead>\n",
       "    <tr style=\"text-align: right;\">\n",
       "      <th></th>\n",
       "      <th>Amount</th>\n",
       "    </tr>\n",
       "    <tr>\n",
       "      <th>Type</th>\n",
       "      <th></th>\n",
       "    </tr>\n",
       "  </thead>\n",
       "  <tbody>\n",
       "    <tr>\n",
       "      <th>Chargeback</th>\n",
       "      <td>4156527.74</td>\n",
       "    </tr>\n",
       "    <tr>\n",
       "      <th>Deposits</th>\n",
       "      <td>58480880.41</td>\n",
       "    </tr>\n",
       "    <tr>\n",
       "      <th>Refund</th>\n",
       "      <td>50909.95</td>\n",
       "    </tr>\n",
       "    <tr>\n",
       "      <th>Withdraw</th>\n",
       "      <td>79602779.15</td>\n",
       "    </tr>\n",
       "  </tbody>\n",
       "</table>\n",
       "</div>"
      ],
      "text/plain": [
       "                 Amount\n",
       "Type                   \n",
       "Chargeback   4156527.74\n",
       "Deposits    58480880.41\n",
       "Refund         50909.95\n",
       "Withdraw    79602779.15"
      ]
     },
     "execution_count": 14,
     "metadata": {},
     "output_type": "execute_result"
    }
   ],
   "source": [
    "table2_result"
   ]
  },
  {
   "cell_type": "code",
   "execution_count": 15,
   "id": "8875ef40",
   "metadata": {},
   "outputs": [],
   "source": [
    "final_result=pd.merge(table1_result,table2_result,how=\"left\",left_index=True,right_index=True,suffixes=('_table1_succe_trans_amount','_table2_succes_trans_amount'))"
   ]
  },
  {
   "cell_type": "code",
   "execution_count": 16,
   "id": "cda7b701",
   "metadata": {},
   "outputs": [
    {
     "data": {
      "text/html": [
       "<div>\n",
       "<style scoped>\n",
       "    .dataframe tbody tr th:only-of-type {\n",
       "        vertical-align: middle;\n",
       "    }\n",
       "\n",
       "    .dataframe tbody tr th {\n",
       "        vertical-align: top;\n",
       "    }\n",
       "\n",
       "    .dataframe thead th {\n",
       "        text-align: right;\n",
       "    }\n",
       "</style>\n",
       "<table border=\"1\" class=\"dataframe\">\n",
       "  <thead>\n",
       "    <tr style=\"text-align: right;\">\n",
       "      <th></th>\n",
       "      <th>Amount_table1_succe_trans_amount</th>\n",
       "      <th>Amount_table2_succes_trans_amount</th>\n",
       "    </tr>\n",
       "    <tr>\n",
       "      <th>Type</th>\n",
       "      <th></th>\n",
       "      <th></th>\n",
       "    </tr>\n",
       "  </thead>\n",
       "  <tbody>\n",
       "    <tr>\n",
       "      <th>Chargeback</th>\n",
       "      <td>12980.00</td>\n",
       "      <td>4156527.74</td>\n",
       "    </tr>\n",
       "    <tr>\n",
       "      <th>Deposits</th>\n",
       "      <td>69479740.54</td>\n",
       "      <td>58480880.41</td>\n",
       "    </tr>\n",
       "    <tr>\n",
       "      <th>Refund</th>\n",
       "      <td>51109.95</td>\n",
       "      <td>50909.95</td>\n",
       "    </tr>\n",
       "    <tr>\n",
       "      <th>Withdraw</th>\n",
       "      <td>56343731.40</td>\n",
       "      <td>79602779.15</td>\n",
       "    </tr>\n",
       "  </tbody>\n",
       "</table>\n",
       "</div>"
      ],
      "text/plain": [
       "            Amount_table1_succe_trans_amount  \\\n",
       "Type                                           \n",
       "Chargeback                          12980.00   \n",
       "Deposits                         69479740.54   \n",
       "Refund                              51109.95   \n",
       "Withdraw                         56343731.40   \n",
       "\n",
       "            Amount_table2_succes_trans_amount  \n",
       "Type                                           \n",
       "Chargeback                         4156527.74  \n",
       "Deposits                          58480880.41  \n",
       "Refund                               50909.95  \n",
       "Withdraw                          79602779.15  "
      ]
     },
     "execution_count": 16,
     "metadata": {},
     "output_type": "execute_result"
    }
   ],
   "source": [
    "final_result"
   ]
  },
  {
   "cell_type": "code",
   "execution_count": 17,
   "id": "0c7df79b",
   "metadata": {},
   "outputs": [],
   "source": [
    "final_result[\"diff\"]=abs(final_result[\"Amount_table1_succe_trans_amount\"]-final_result[\"Amount_table2_succes_trans_amount\"])"
   ]
  },
  {
   "cell_type": "code",
   "execution_count": 18,
   "id": "6544681f-e726-4754-a3f5-f3f72ef43222",
   "metadata": {},
   "outputs": [
    {
     "data": {
      "text/html": [
       "<div>\n",
       "<style scoped>\n",
       "    .dataframe tbody tr th:only-of-type {\n",
       "        vertical-align: middle;\n",
       "    }\n",
       "\n",
       "    .dataframe tbody tr th {\n",
       "        vertical-align: top;\n",
       "    }\n",
       "\n",
       "    .dataframe thead th {\n",
       "        text-align: right;\n",
       "    }\n",
       "</style>\n",
       "<table border=\"1\" class=\"dataframe\">\n",
       "  <thead>\n",
       "    <tr style=\"text-align: right;\">\n",
       "      <th></th>\n",
       "      <th>Amount_table1_succe_trans_amount</th>\n",
       "      <th>Amount_table2_succes_trans_amount</th>\n",
       "      <th>diff</th>\n",
       "    </tr>\n",
       "    <tr>\n",
       "      <th>Type</th>\n",
       "      <th></th>\n",
       "      <th></th>\n",
       "      <th></th>\n",
       "    </tr>\n",
       "  </thead>\n",
       "  <tbody>\n",
       "    <tr>\n",
       "      <th>Chargeback</th>\n",
       "      <td>12980.00</td>\n",
       "      <td>4156527.74</td>\n",
       "      <td>4143547.74</td>\n",
       "    </tr>\n",
       "    <tr>\n",
       "      <th>Deposits</th>\n",
       "      <td>69479740.54</td>\n",
       "      <td>58480880.41</td>\n",
       "      <td>10998860.13</td>\n",
       "    </tr>\n",
       "    <tr>\n",
       "      <th>Refund</th>\n",
       "      <td>51109.95</td>\n",
       "      <td>50909.95</td>\n",
       "      <td>200.00</td>\n",
       "    </tr>\n",
       "    <tr>\n",
       "      <th>Withdraw</th>\n",
       "      <td>56343731.40</td>\n",
       "      <td>79602779.15</td>\n",
       "      <td>23259047.75</td>\n",
       "    </tr>\n",
       "  </tbody>\n",
       "</table>\n",
       "</div>"
      ],
      "text/plain": [
       "            Amount_table1_succe_trans_amount  \\\n",
       "Type                                           \n",
       "Chargeback                          12980.00   \n",
       "Deposits                         69479740.54   \n",
       "Refund                              51109.95   \n",
       "Withdraw                         56343731.40   \n",
       "\n",
       "            Amount_table2_succes_trans_amount         diff  \n",
       "Type                                                        \n",
       "Chargeback                         4156527.74   4143547.74  \n",
       "Deposits                          58480880.41  10998860.13  \n",
       "Refund                               50909.95       200.00  \n",
       "Withdraw                          79602779.15  23259047.75  "
      ]
     },
     "execution_count": 18,
     "metadata": {},
     "output_type": "execute_result"
    }
   ],
   "source": [
    "final_result"
   ]
  },
  {
   "cell_type": "markdown",
   "id": "af115513-5c6d-416c-ab54-33b4f48b8bc4",
   "metadata": {},
   "source": [
    "<center><h1><b>Task_1 |  Second part</b></h1></center>"
   ]
  },
  {
   "attachments": {},
   "cell_type": "markdown",
   "id": "6c43a2dc",
   "metadata": {},
   "source": [
    "<b>Count of Failed Deposits /Average deposits/Max Withdraw/Min Chargeback</b>\n",
    "\n"
   ]
  },
  {
   "cell_type": "code",
   "execution_count": 19,
   "id": "3f55f154",
   "metadata": {},
   "outputs": [
    {
     "data": {
      "text/html": [
       "<div>\n",
       "<style scoped>\n",
       "    .dataframe tbody tr th:only-of-type {\n",
       "        vertical-align: middle;\n",
       "    }\n",
       "\n",
       "    .dataframe tbody tr th {\n",
       "        vertical-align: top;\n",
       "    }\n",
       "\n",
       "    .dataframe thead th {\n",
       "        text-align: right;\n",
       "    }\n",
       "</style>\n",
       "<table border=\"1\" class=\"dataframe\">\n",
       "  <thead>\n",
       "    <tr style=\"text-align: right;\">\n",
       "      <th></th>\n",
       "      <th>name</th>\n",
       "      <th>Status</th>\n",
       "      <th>Type</th>\n",
       "      <th>Company Name</th>\n",
       "      <th>Amount</th>\n",
       "    </tr>\n",
       "  </thead>\n",
       "  <tbody>\n",
       "    <tr>\n",
       "      <th>0</th>\n",
       "      <td>Asia&amp;flash L</td>\n",
       "      <td>Success</td>\n",
       "      <td>Deposits</td>\n",
       "      <td>AD</td>\n",
       "      <td>155364.61</td>\n",
       "    </tr>\n",
       "    <tr>\n",
       "      <th>1</th>\n",
       "      <td>Asia&amp;flash L</td>\n",
       "      <td>Success</td>\n",
       "      <td>Deposits</td>\n",
       "      <td>AF</td>\n",
       "      <td>11679.29</td>\n",
       "    </tr>\n",
       "    <tr>\n",
       "      <th>2</th>\n",
       "      <td>Asia&amp;flash L</td>\n",
       "      <td>Fail</td>\n",
       "      <td>Deposits</td>\n",
       "      <td>AG</td>\n",
       "      <td>86071.89</td>\n",
       "    </tr>\n",
       "    <tr>\n",
       "      <th>3</th>\n",
       "      <td>Asia&amp;flash L</td>\n",
       "      <td>Success</td>\n",
       "      <td>Deposits</td>\n",
       "      <td>AI</td>\n",
       "      <td>593.00</td>\n",
       "    </tr>\n",
       "    <tr>\n",
       "      <th>4</th>\n",
       "      <td>Asia&amp;flash L</td>\n",
       "      <td>Success</td>\n",
       "      <td>Chargeback</td>\n",
       "      <td>AL</td>\n",
       "      <td>10.00</td>\n",
       "    </tr>\n",
       "  </tbody>\n",
       "</table>\n",
       "</div>"
      ],
      "text/plain": [
       "           name   Status        Type Company Name     Amount\n",
       "0  Asia&flash L  Success    Deposits           AD  155364.61\n",
       "1  Asia&flash L  Success    Deposits           AF   11679.29\n",
       "2  Asia&flash L     Fail    Deposits           AG   86071.89\n",
       "3  Asia&flash L  Success    Deposits           AI     593.00\n",
       "4  Asia&flash L  Success  Chargeback           AL      10.00"
      ]
     },
     "execution_count": 19,
     "metadata": {},
     "output_type": "execute_result"
    }
   ],
   "source": [
    "table1.head()"
   ]
  },
  {
   "cell_type": "code",
   "execution_count": 20,
   "id": "3e2caef0",
   "metadata": {},
   "outputs": [],
   "source": [
    "mask1_table1=table1['Type']=='Deposits'"
   ]
  },
  {
   "cell_type": "code",
   "execution_count": 21,
   "id": "7da41524",
   "metadata": {},
   "outputs": [],
   "source": [
    "mask2_table1=table1['Status']==\"Fail\""
   ]
  },
  {
   "cell_type": "code",
   "execution_count": 22,
   "id": "327a6931",
   "metadata": {},
   "outputs": [
    {
     "data": {
      "text/html": [
       "<div>\n",
       "<style scoped>\n",
       "    .dataframe tbody tr th:only-of-type {\n",
       "        vertical-align: middle;\n",
       "    }\n",
       "\n",
       "    .dataframe tbody tr th {\n",
       "        vertical-align: top;\n",
       "    }\n",
       "\n",
       "    .dataframe thead th {\n",
       "        text-align: right;\n",
       "    }\n",
       "</style>\n",
       "<table border=\"1\" class=\"dataframe\">\n",
       "  <thead>\n",
       "    <tr style=\"text-align: right;\">\n",
       "      <th></th>\n",
       "      <th>name</th>\n",
       "      <th>Status</th>\n",
       "      <th>Type</th>\n",
       "      <th>Company Name</th>\n",
       "      <th>Amount</th>\n",
       "    </tr>\n",
       "  </thead>\n",
       "  <tbody>\n",
       "    <tr>\n",
       "      <th>2</th>\n",
       "      <td>Asia&amp;flash L</td>\n",
       "      <td>Fail</td>\n",
       "      <td>Deposits</td>\n",
       "      <td>AG</td>\n",
       "      <td>86071.89</td>\n",
       "    </tr>\n",
       "    <tr>\n",
       "      <th>47</th>\n",
       "      <td>Asia&amp;flash L</td>\n",
       "      <td>Fail</td>\n",
       "      <td>Deposits</td>\n",
       "      <td>GA</td>\n",
       "      <td>4564523.00</td>\n",
       "    </tr>\n",
       "    <tr>\n",
       "      <th>55</th>\n",
       "      <td>Asia&amp;flash L</td>\n",
       "      <td>Fail</td>\n",
       "      <td>Deposits</td>\n",
       "      <td>GM</td>\n",
       "      <td>2455732.00</td>\n",
       "    </tr>\n",
       "  </tbody>\n",
       "</table>\n",
       "</div>"
      ],
      "text/plain": [
       "            name Status      Type Company Name      Amount\n",
       "2   Asia&flash L   Fail  Deposits           AG    86071.89\n",
       "47  Asia&flash L   Fail  Deposits           GA  4564523.00\n",
       "55  Asia&flash L   Fail  Deposits           GM  2455732.00"
      ]
     },
     "execution_count": 22,
     "metadata": {},
     "output_type": "execute_result"
    }
   ],
   "source": [
    "table1[mask1_table1 & mask2_table1]"
   ]
  },
  {
   "cell_type": "code",
   "execution_count": 23,
   "id": "16f3309d",
   "metadata": {},
   "outputs": [
    {
     "data": {
      "text/plain": [
       "3"
      ]
     },
     "execution_count": 23,
     "metadata": {},
     "output_type": "execute_result"
    }
   ],
   "source": [
    "Count_of_Failed_Deposits_table1=len(table1[mask1_table1 & mask2_table1])\n",
    "Count_of_Failed_Deposits_table1"
   ]
  },
  {
   "cell_type": "code",
   "execution_count": 24,
   "id": "1e67d22d",
   "metadata": {},
   "outputs": [
    {
     "data": {
      "text/plain": [
       "1143075.6332835823"
      ]
     },
     "execution_count": 24,
     "metadata": {},
     "output_type": "execute_result"
    }
   ],
   "source": [
    "Average_deposits_table1=table1.groupby(\"Type\")['Amount'].mean().loc['Deposits' ]\n",
    "Average_deposits_table1# Average deposit (including both successful and failed transactions)"
   ]
  },
  {
   "cell_type": "code",
   "execution_count": 25,
   "id": "3f599369-d015-4039-bb35-be74484429e0",
   "metadata": {},
   "outputs": [
    {
     "data": {
      "text/plain": [
       "1085620.9459375"
      ]
     },
     "execution_count": 25,
     "metadata": {},
     "output_type": "execute_result"
    }
   ],
   "source": [
    "Average_deposits_table1_for_successful_transaction=table1[table1['Status']==\"Success\"].groupby(\"Type\")[\"Amount\"].mean().loc[\"Deposits\"]\n",
    "Average_deposits_table1_for_successful_transaction"
   ]
  },
  {
   "cell_type": "code",
   "execution_count": 26,
   "id": "9a337fd7",
   "metadata": {},
   "outputs": [
    {
     "data": {
      "text/plain": [
       "19623485.77"
      ]
     },
     "execution_count": 26,
     "metadata": {},
     "output_type": "execute_result"
    }
   ],
   "source": [
    "Max_Withdraw_table1=table1.groupby(\"Type\")[\"Amount\"].max().loc[\"Withdraw\"]\n",
    "Max_Withdraw_table1# I verified whether this maximum withdrawal was successful,yes it was."
   ]
  },
  {
   "cell_type": "code",
   "execution_count": 27,
   "id": "f20ec634",
   "metadata": {},
   "outputs": [
    {
     "data": {
      "text/plain": [
       "10.0"
      ]
     },
     "execution_count": 27,
     "metadata": {},
     "output_type": "execute_result"
    }
   ],
   "source": [
    "min_Chargeback_table1=table1.groupby(\"Type\")[\"Amount\"].min().loc[\"Chargeback\"]\n",
    "min_Chargeback_table1#I verified the outcome of the minimum chargeback to determine its success.it was successful."
   ]
  },
  {
   "cell_type": "code",
   "execution_count": 28,
   "id": "3011c50b",
   "metadata": {},
   "outputs": [
    {
     "data": {
      "text/html": [
       "<div>\n",
       "<style scoped>\n",
       "    .dataframe tbody tr th:only-of-type {\n",
       "        vertical-align: middle;\n",
       "    }\n",
       "\n",
       "    .dataframe tbody tr th {\n",
       "        vertical-align: top;\n",
       "    }\n",
       "\n",
       "    .dataframe thead th {\n",
       "        text-align: right;\n",
       "    }\n",
       "</style>\n",
       "<table border=\"1\" class=\"dataframe\">\n",
       "  <thead>\n",
       "    <tr style=\"text-align: right;\">\n",
       "      <th></th>\n",
       "      <th>name</th>\n",
       "      <th>Status</th>\n",
       "      <th>Type</th>\n",
       "      <th>Company Name</th>\n",
       "      <th>Amount</th>\n",
       "    </tr>\n",
       "  </thead>\n",
       "  <tbody>\n",
       "    <tr>\n",
       "      <th>0</th>\n",
       "      <td>Asia&amp;flash A</td>\n",
       "      <td>Success</td>\n",
       "      <td>Withdraw</td>\n",
       "      <td>ZW</td>\n",
       "      <td>34860.49</td>\n",
       "    </tr>\n",
       "    <tr>\n",
       "      <th>1</th>\n",
       "      <td>Asia&amp;flash L</td>\n",
       "      <td>Success</td>\n",
       "      <td>Withdraw</td>\n",
       "      <td>ZW</td>\n",
       "      <td>128111.67</td>\n",
       "    </tr>\n",
       "    <tr>\n",
       "      <th>2</th>\n",
       "      <td>Asia&amp;flash A</td>\n",
       "      <td>Success</td>\n",
       "      <td>Withdraw</td>\n",
       "      <td>ZW</td>\n",
       "      <td>4114926.00</td>\n",
       "    </tr>\n",
       "    <tr>\n",
       "      <th>3</th>\n",
       "      <td>Asia&amp;flash L</td>\n",
       "      <td>Success</td>\n",
       "      <td>Withdraw</td>\n",
       "      <td>ZW</td>\n",
       "      <td>10964.42</td>\n",
       "    </tr>\n",
       "    <tr>\n",
       "      <th>4</th>\n",
       "      <td>Asia&amp;flash L</td>\n",
       "      <td>Success</td>\n",
       "      <td>Withdraw</td>\n",
       "      <td>GF</td>\n",
       "      <td>3950.00</td>\n",
       "    </tr>\n",
       "  </tbody>\n",
       "</table>\n",
       "</div>"
      ],
      "text/plain": [
       "           name   Status      Type Company Name      Amount\n",
       "0  Asia&flash A  Success  Withdraw           ZW    34860.49\n",
       "1  Asia&flash L  Success  Withdraw           ZW   128111.67\n",
       "2  Asia&flash A  Success  Withdraw           ZW  4114926.00\n",
       "3  Asia&flash L  Success  Withdraw           ZW    10964.42\n",
       "4  Asia&flash L  Success  Withdraw           GF     3950.00"
      ]
     },
     "execution_count": 28,
     "metadata": {},
     "output_type": "execute_result"
    }
   ],
   "source": [
    "table2.head()"
   ]
  },
  {
   "cell_type": "code",
   "execution_count": 29,
   "id": "c8d21abb",
   "metadata": {},
   "outputs": [],
   "source": [
    "mask1_table2=table2['Type']=='Deposits'"
   ]
  },
  {
   "cell_type": "code",
   "execution_count": 30,
   "id": "8ab74947",
   "metadata": {},
   "outputs": [],
   "source": [
    "mask2_table2=table2['Status']==\"Fail\""
   ]
  },
  {
   "cell_type": "code",
   "execution_count": 31,
   "id": "c1b45c74",
   "metadata": {},
   "outputs": [
    {
     "data": {
      "text/html": [
       "<div>\n",
       "<style scoped>\n",
       "    .dataframe tbody tr th:only-of-type {\n",
       "        vertical-align: middle;\n",
       "    }\n",
       "\n",
       "    .dataframe tbody tr th {\n",
       "        vertical-align: top;\n",
       "    }\n",
       "\n",
       "    .dataframe thead th {\n",
       "        text-align: right;\n",
       "    }\n",
       "</style>\n",
       "<table border=\"1\" class=\"dataframe\">\n",
       "  <thead>\n",
       "    <tr style=\"text-align: right;\">\n",
       "      <th></th>\n",
       "      <th>name</th>\n",
       "      <th>Status</th>\n",
       "      <th>Type</th>\n",
       "      <th>Company Name</th>\n",
       "      <th>Amount</th>\n",
       "    </tr>\n",
       "  </thead>\n",
       "  <tbody>\n",
       "    <tr>\n",
       "      <th>26</th>\n",
       "      <td>Asia&amp;flash L</td>\n",
       "      <td>Fail</td>\n",
       "      <td>Deposits</td>\n",
       "      <td>GF</td>\n",
       "      <td>53000.00</td>\n",
       "    </tr>\n",
       "    <tr>\n",
       "      <th>27</th>\n",
       "      <td>Asia&amp;flash L</td>\n",
       "      <td>Fail</td>\n",
       "      <td>Deposits</td>\n",
       "      <td>FD</td>\n",
       "      <td>12574345.36</td>\n",
       "    </tr>\n",
       "    <tr>\n",
       "      <th>97</th>\n",
       "      <td>Asia&amp;flash A</td>\n",
       "      <td>Fail</td>\n",
       "      <td>Deposits</td>\n",
       "      <td>OK</td>\n",
       "      <td>176250.00</td>\n",
       "    </tr>\n",
       "    <tr>\n",
       "      <th>109</th>\n",
       "      <td>Asia&amp;flash L</td>\n",
       "      <td>Fail</td>\n",
       "      <td>Deposits</td>\n",
       "      <td>OK</td>\n",
       "      <td>18049.60</td>\n",
       "    </tr>\n",
       "    <tr>\n",
       "      <th>110</th>\n",
       "      <td>Asia&amp;flash S</td>\n",
       "      <td>Fail</td>\n",
       "      <td>Deposits</td>\n",
       "      <td>FD</td>\n",
       "      <td>4381.28</td>\n",
       "    </tr>\n",
       "    <tr>\n",
       "      <th>111</th>\n",
       "      <td>Asia&amp;flash L</td>\n",
       "      <td>Fail</td>\n",
       "      <td>Deposits</td>\n",
       "      <td>FD</td>\n",
       "      <td>181467.00</td>\n",
       "    </tr>\n",
       "    <tr>\n",
       "      <th>112</th>\n",
       "      <td>Asia&amp;flash L</td>\n",
       "      <td>Fail</td>\n",
       "      <td>Deposits</td>\n",
       "      <td>FD</td>\n",
       "      <td>3841.20</td>\n",
       "    </tr>\n",
       "    <tr>\n",
       "      <th>113</th>\n",
       "      <td>Asia&amp;flash L</td>\n",
       "      <td>Fail</td>\n",
       "      <td>Deposits</td>\n",
       "      <td>FD</td>\n",
       "      <td>200.00</td>\n",
       "    </tr>\n",
       "    <tr>\n",
       "      <th>114</th>\n",
       "      <td>Asia&amp;flash L</td>\n",
       "      <td>Fail</td>\n",
       "      <td>Deposits</td>\n",
       "      <td>FD</td>\n",
       "      <td>19623485.76</td>\n",
       "    </tr>\n",
       "  </tbody>\n",
       "</table>\n",
       "</div>"
      ],
      "text/plain": [
       "             name Status      Type Company Name       Amount\n",
       "26   Asia&flash L   Fail  Deposits           GF     53000.00\n",
       "27   Asia&flash L   Fail  Deposits           FD  12574345.36\n",
       "97   Asia&flash A   Fail  Deposits           OK    176250.00\n",
       "109  Asia&flash L   Fail  Deposits           OK     18049.60\n",
       "110  Asia&flash S   Fail  Deposits           FD      4381.28\n",
       "111  Asia&flash L   Fail  Deposits           FD    181467.00\n",
       "112  Asia&flash L   Fail  Deposits           FD      3841.20\n",
       "113  Asia&flash L   Fail  Deposits           FD       200.00\n",
       "114  Asia&flash L   Fail  Deposits           FD  19623485.76"
      ]
     },
     "execution_count": 31,
     "metadata": {},
     "output_type": "execute_result"
    }
   ],
   "source": [
    "table2[mask1_table2 & mask2_table2]"
   ]
  },
  {
   "cell_type": "code",
   "execution_count": 32,
   "id": "f9f44f50",
   "metadata": {},
   "outputs": [
    {
     "data": {
      "text/plain": [
       "9"
      ]
     },
     "execution_count": 32,
     "metadata": {},
     "output_type": "execute_result"
    }
   ],
   "source": [
    "Count_of_Failed_Deposits_table2=len(table2[mask1_table2 & mask2_table2])\n",
    "Count_of_Failed_Deposits_table2"
   ]
  },
  {
   "cell_type": "code",
   "execution_count": 33,
   "id": "d604c828",
   "metadata": {},
   "outputs": [
    {
     "data": {
      "text/plain": [
       "1248163.0220547945"
      ]
     },
     "execution_count": 33,
     "metadata": {},
     "output_type": "execute_result"
    }
   ],
   "source": [
    "Average_deposits_table2=table2.groupby(\"Type\")['Amount'].mean().loc['Deposits' ]\n",
    "Average_deposits_table2#this average deposite includes failed and successful transactions"
   ]
  },
  {
   "cell_type": "code",
   "execution_count": 34,
   "id": "9c9e5c7a-61ff-491a-a694-52c04a473e93",
   "metadata": {},
   "outputs": [
    {
     "data": {
      "text/plain": [
       "913763.75640625"
      ]
     },
     "execution_count": 34,
     "metadata": {},
     "output_type": "execute_result"
    }
   ],
   "source": [
    "Average_deposits_table2_for_successful_transaction=table2[table2['Status']==\"Success\"].groupby(\"Type\")[\"Amount\"].mean().loc[\"Deposits\"]\n",
    "Average_deposits_table2_for_successful_transaction#this average deposite is only for successful transactions"
   ]
  },
  {
   "cell_type": "code",
   "execution_count": 35,
   "id": "ae4b9a7e",
   "metadata": {},
   "outputs": [
    {
     "data": {
      "text/plain": [
       "19623485.76"
      ]
     },
     "execution_count": 35,
     "metadata": {},
     "output_type": "execute_result"
    }
   ],
   "source": [
    "Max_Withdraw_table2=table2.groupby(\"Type\")[\"Amount\"].max().loc[\"Withdraw\"]\n",
    "Max_Withdraw_table2#I checked if this transaction was successful. Yes, it was."
   ]
  },
  {
   "cell_type": "code",
   "execution_count": 36,
   "id": "91b7df06",
   "metadata": {},
   "outputs": [
    {
     "data": {
      "text/plain": [
       "10.0"
      ]
     },
     "execution_count": 36,
     "metadata": {},
     "output_type": "execute_result"
    }
   ],
   "source": [
    "min_Chargeback_table2=table2.groupby(\"Type\")[\"Amount\"].min().loc[\"Chargeback\"]\n",
    "min_Chargeback_table2#I verified the outcome of the minimum chargeback to determine whether it was successful. It was."
   ]
  },
  {
   "cell_type": "code",
   "execution_count": 37,
   "id": "c69a0c82",
   "metadata": {},
   "outputs": [
    {
     "data": {
      "text/html": [
       "<div>\n",
       "<style scoped>\n",
       "    .dataframe tbody tr th:only-of-type {\n",
       "        vertical-align: middle;\n",
       "    }\n",
       "\n",
       "    .dataframe tbody tr th {\n",
       "        vertical-align: top;\n",
       "    }\n",
       "\n",
       "    .dataframe thead th {\n",
       "        text-align: right;\n",
       "    }\n",
       "</style>\n",
       "<table border=\"1\" class=\"dataframe\">\n",
       "  <thead>\n",
       "    <tr style=\"text-align: right;\">\n",
       "      <th></th>\n",
       "      <th>Count_of_Failed_Deposits</th>\n",
       "      <th>Average_deposits</th>\n",
       "      <th>Average_deposits_succful_trans</th>\n",
       "      <th>Max_Withdraw_table1</th>\n",
       "      <th>min_Chargeback</th>\n",
       "    </tr>\n",
       "  </thead>\n",
       "  <tbody>\n",
       "    <tr>\n",
       "      <th>table1</th>\n",
       "      <td>3</td>\n",
       "      <td>1.143076e+06</td>\n",
       "      <td>1.085621e+06</td>\n",
       "      <td>19623485.77</td>\n",
       "      <td>10</td>\n",
       "    </tr>\n",
       "    <tr>\n",
       "      <th>table2</th>\n",
       "      <td>9</td>\n",
       "      <td>1.248163e+06</td>\n",
       "      <td>9.137638e+05</td>\n",
       "      <td>19623485.76</td>\n",
       "      <td>10</td>\n",
       "    </tr>\n",
       "  </tbody>\n",
       "</table>\n",
       "</div>"
      ],
      "text/plain": [
       "        Count_of_Failed_Deposits  Average_deposits  \\\n",
       "table1                         3      1.143076e+06   \n",
       "table2                         9      1.248163e+06   \n",
       "\n",
       "        Average_deposits_succful_trans  Max_Withdraw_table1  min_Chargeback  \n",
       "table1                    1.085621e+06          19623485.77              10  \n",
       "table2                    9.137638e+05          19623485.76              10  "
      ]
     },
     "execution_count": 37,
     "metadata": {},
     "output_type": "execute_result"
    }
   ],
   "source": [
    "pd.DataFrame({'Count_of_Failed_Deposits':[3,9],'Average_deposits':[1143075.6332835823,1248163.0220547945],\"Average_deposits_succful_trans\":[1085620.9459375,913763.75640625],\n",
    "              'Max_Withdraw_table1':[19623485.77,19623485.76],\n",
    " 'min_Chargeback':[10,10]},index=['table1','table2'])"
   ]
  },
  {
   "cell_type": "markdown",
   "id": "c45f4f42",
   "metadata": {},
   "source": [
    "<center><h1><b>Task_2</b></h1></center>"
   ]
  },
  {
   "cell_type": "code",
   "execution_count": 38,
   "id": "67c03db7",
   "metadata": {},
   "outputs": [
    {
     "data": {
      "text/html": [
       "<div>\n",
       "<style scoped>\n",
       "    .dataframe tbody tr th:only-of-type {\n",
       "        vertical-align: middle;\n",
       "    }\n",
       "\n",
       "    .dataframe tbody tr th {\n",
       "        vertical-align: top;\n",
       "    }\n",
       "\n",
       "    .dataframe thead th {\n",
       "        text-align: right;\n",
       "    }\n",
       "</style>\n",
       "<table border=\"1\" class=\"dataframe\">\n",
       "  <thead>\n",
       "    <tr style=\"text-align: right;\">\n",
       "      <th></th>\n",
       "      <th>name</th>\n",
       "      <th>Status</th>\n",
       "      <th>Type</th>\n",
       "      <th>Company Name</th>\n",
       "      <th>Amount</th>\n",
       "    </tr>\n",
       "  </thead>\n",
       "  <tbody>\n",
       "    <tr>\n",
       "      <th>0</th>\n",
       "      <td>Asia&amp;flash L</td>\n",
       "      <td>Success</td>\n",
       "      <td>Deposits</td>\n",
       "      <td>AD</td>\n",
       "      <td>155364.61</td>\n",
       "    </tr>\n",
       "    <tr>\n",
       "      <th>1</th>\n",
       "      <td>Asia&amp;flash L</td>\n",
       "      <td>Success</td>\n",
       "      <td>Deposits</td>\n",
       "      <td>AF</td>\n",
       "      <td>11679.29</td>\n",
       "    </tr>\n",
       "    <tr>\n",
       "      <th>2</th>\n",
       "      <td>Asia&amp;flash L</td>\n",
       "      <td>Fail</td>\n",
       "      <td>Deposits</td>\n",
       "      <td>AG</td>\n",
       "      <td>86071.89</td>\n",
       "    </tr>\n",
       "    <tr>\n",
       "      <th>3</th>\n",
       "      <td>Asia&amp;flash L</td>\n",
       "      <td>Success</td>\n",
       "      <td>Deposits</td>\n",
       "      <td>AI</td>\n",
       "      <td>593.00</td>\n",
       "    </tr>\n",
       "    <tr>\n",
       "      <th>4</th>\n",
       "      <td>Asia&amp;flash L</td>\n",
       "      <td>Success</td>\n",
       "      <td>Chargeback</td>\n",
       "      <td>AL</td>\n",
       "      <td>10.00</td>\n",
       "    </tr>\n",
       "  </tbody>\n",
       "</table>\n",
       "</div>"
      ],
      "text/plain": [
       "           name   Status        Type Company Name     Amount\n",
       "0  Asia&flash L  Success    Deposits           AD  155364.61\n",
       "1  Asia&flash L  Success    Deposits           AF   11679.29\n",
       "2  Asia&flash L     Fail    Deposits           AG   86071.89\n",
       "3  Asia&flash L  Success    Deposits           AI     593.00\n",
       "4  Asia&flash L  Success  Chargeback           AL      10.00"
      ]
     },
     "execution_count": 38,
     "metadata": {},
     "output_type": "execute_result"
    }
   ],
   "source": [
    "table1.head()"
   ]
  },
  {
   "cell_type": "code",
   "execution_count": 39,
   "id": "ab4b16f6",
   "metadata": {},
   "outputs": [],
   "source": [
    "success=table1[table1['Status']=='Success']"
   ]
  },
  {
   "cell_type": "code",
   "execution_count": 40,
   "id": "fcb095f8",
   "metadata": {},
   "outputs": [],
   "source": [
    "company_pivotal=pd.DataFrame(success.groupby([\"Company Name\",'Type'])[\"Amount\"].sum()).unstack()"
   ]
  },
  {
   "cell_type": "code",
   "execution_count": 41,
   "id": "5d508037",
   "metadata": {},
   "outputs": [
    {
     "data": {
      "text/html": [
       "<div>\n",
       "<style scoped>\n",
       "    .dataframe tbody tr th:only-of-type {\n",
       "        vertical-align: middle;\n",
       "    }\n",
       "\n",
       "    .dataframe tbody tr th {\n",
       "        vertical-align: top;\n",
       "    }\n",
       "\n",
       "    .dataframe thead tr th {\n",
       "        text-align: left;\n",
       "    }\n",
       "</style>\n",
       "<table border=\"1\" class=\"dataframe\">\n",
       "  <thead>\n",
       "    <tr>\n",
       "      <th></th>\n",
       "      <th>Company Name</th>\n",
       "      <th colspan=\"4\" halign=\"left\">Amount</th>\n",
       "    </tr>\n",
       "    <tr>\n",
       "      <th>Type</th>\n",
       "      <th></th>\n",
       "      <th>Chargeback</th>\n",
       "      <th>Deposits</th>\n",
       "      <th>Refund</th>\n",
       "      <th>Withdraw</th>\n",
       "    </tr>\n",
       "  </thead>\n",
       "  <tbody>\n",
       "    <tr>\n",
       "      <th>0</th>\n",
       "      <td>AD</td>\n",
       "      <td>NaN</td>\n",
       "      <td>155364.61</td>\n",
       "      <td>NaN</td>\n",
       "      <td>NaN</td>\n",
       "    </tr>\n",
       "    <tr>\n",
       "      <th>1</th>\n",
       "      <td>AF</td>\n",
       "      <td>NaN</td>\n",
       "      <td>11679.29</td>\n",
       "      <td>NaN</td>\n",
       "      <td>NaN</td>\n",
       "    </tr>\n",
       "    <tr>\n",
       "      <th>2</th>\n",
       "      <td>AI</td>\n",
       "      <td>NaN</td>\n",
       "      <td>593.00</td>\n",
       "      <td>NaN</td>\n",
       "      <td>NaN</td>\n",
       "    </tr>\n",
       "    <tr>\n",
       "      <th>3</th>\n",
       "      <td>AL</td>\n",
       "      <td>10.0</td>\n",
       "      <td>NaN</td>\n",
       "      <td>NaN</td>\n",
       "      <td>NaN</td>\n",
       "    </tr>\n",
       "    <tr>\n",
       "      <th>4</th>\n",
       "      <td>AM</td>\n",
       "      <td>NaN</td>\n",
       "      <td>16465.00</td>\n",
       "      <td>NaN</td>\n",
       "      <td>NaN</td>\n",
       "    </tr>\n",
       "    <tr>\n",
       "      <th>...</th>\n",
       "      <td>...</td>\n",
       "      <td>...</td>\n",
       "      <td>...</td>\n",
       "      <td>...</td>\n",
       "      <td>...</td>\n",
       "    </tr>\n",
       "    <tr>\n",
       "      <th>79</th>\n",
       "      <td>WS</td>\n",
       "      <td>NaN</td>\n",
       "      <td>NaN</td>\n",
       "      <td>NaN</td>\n",
       "      <td>3950.00</td>\n",
       "    </tr>\n",
       "    <tr>\n",
       "      <th>80</th>\n",
       "      <td>YE</td>\n",
       "      <td>NaN</td>\n",
       "      <td>NaN</td>\n",
       "      <td>NaN</td>\n",
       "      <td>10964.42</td>\n",
       "    </tr>\n",
       "    <tr>\n",
       "      <th>81</th>\n",
       "      <td>ZM</td>\n",
       "      <td>NaN</td>\n",
       "      <td>NaN</td>\n",
       "      <td>NaN</td>\n",
       "      <td>4114926.00</td>\n",
       "    </tr>\n",
       "    <tr>\n",
       "      <th>82</th>\n",
       "      <td>ZR</td>\n",
       "      <td>NaN</td>\n",
       "      <td>NaN</td>\n",
       "      <td>NaN</td>\n",
       "      <td>128111.67</td>\n",
       "    </tr>\n",
       "    <tr>\n",
       "      <th>83</th>\n",
       "      <td>ZW</td>\n",
       "      <td>NaN</td>\n",
       "      <td>NaN</td>\n",
       "      <td>NaN</td>\n",
       "      <td>34860.49</td>\n",
       "    </tr>\n",
       "  </tbody>\n",
       "</table>\n",
       "<p>84 rows × 5 columns</p>\n",
       "</div>"
      ],
      "text/plain": [
       "     Company Name     Amount                              \n",
       "Type              Chargeback   Deposits Refund    Withdraw\n",
       "0              AD        NaN  155364.61    NaN         NaN\n",
       "1              AF        NaN   11679.29    NaN         NaN\n",
       "2              AI        NaN     593.00    NaN         NaN\n",
       "3              AL       10.0        NaN    NaN         NaN\n",
       "4              AM        NaN   16465.00    NaN         NaN\n",
       "..            ...        ...        ...    ...         ...\n",
       "79             WS        NaN        NaN    NaN     3950.00\n",
       "80             YE        NaN        NaN    NaN    10964.42\n",
       "81             ZM        NaN        NaN    NaN  4114926.00\n",
       "82             ZR        NaN        NaN    NaN   128111.67\n",
       "83             ZW        NaN        NaN    NaN    34860.49\n",
       "\n",
       "[84 rows x 5 columns]"
      ]
     },
     "execution_count": 41,
     "metadata": {},
     "output_type": "execute_result"
    }
   ],
   "source": [
    "company_pivotal.reset_index()"
   ]
  },
  {
   "cell_type": "code",
   "execution_count": 42,
   "id": "f5e0d36d",
   "metadata": {},
   "outputs": [],
   "source": [
    "company_pivotal.columns=['Chargeback','Deposits','Refund','Withdraw']"
   ]
  },
  {
   "cell_type": "code",
   "execution_count": 43,
   "id": "b96b2f98-6680-41c4-a8a2-0e6f05f65eb7",
   "metadata": {},
   "outputs": [],
   "source": [
    "company_pivotal.fillna(0,inplace=True)"
   ]
  },
  {
   "cell_type": "code",
   "execution_count": 44,
   "id": "91e7ce15-d6e8-4e2d-b9ec-1203f1ee4521",
   "metadata": {},
   "outputs": [
    {
     "data": {
      "text/html": [
       "<div>\n",
       "<style scoped>\n",
       "    .dataframe tbody tr th:only-of-type {\n",
       "        vertical-align: middle;\n",
       "    }\n",
       "\n",
       "    .dataframe tbody tr th {\n",
       "        vertical-align: top;\n",
       "    }\n",
       "\n",
       "    .dataframe thead th {\n",
       "        text-align: right;\n",
       "    }\n",
       "</style>\n",
       "<table border=\"1\" class=\"dataframe\">\n",
       "  <thead>\n",
       "    <tr style=\"text-align: right;\">\n",
       "      <th></th>\n",
       "      <th>Chargeback</th>\n",
       "      <th>Deposits</th>\n",
       "      <th>Refund</th>\n",
       "      <th>Withdraw</th>\n",
       "    </tr>\n",
       "    <tr>\n",
       "      <th>Company Name</th>\n",
       "      <th></th>\n",
       "      <th></th>\n",
       "      <th></th>\n",
       "      <th></th>\n",
       "    </tr>\n",
       "  </thead>\n",
       "  <tbody>\n",
       "    <tr>\n",
       "      <th>AD</th>\n",
       "      <td>0.0</td>\n",
       "      <td>155364.61</td>\n",
       "      <td>0.0</td>\n",
       "      <td>0.00</td>\n",
       "    </tr>\n",
       "    <tr>\n",
       "      <th>AF</th>\n",
       "      <td>0.0</td>\n",
       "      <td>11679.29</td>\n",
       "      <td>0.0</td>\n",
       "      <td>0.00</td>\n",
       "    </tr>\n",
       "    <tr>\n",
       "      <th>AI</th>\n",
       "      <td>0.0</td>\n",
       "      <td>593.00</td>\n",
       "      <td>0.0</td>\n",
       "      <td>0.00</td>\n",
       "    </tr>\n",
       "    <tr>\n",
       "      <th>AL</th>\n",
       "      <td>10.0</td>\n",
       "      <td>0.00</td>\n",
       "      <td>0.0</td>\n",
       "      <td>0.00</td>\n",
       "    </tr>\n",
       "    <tr>\n",
       "      <th>AM</th>\n",
       "      <td>0.0</td>\n",
       "      <td>16465.00</td>\n",
       "      <td>0.0</td>\n",
       "      <td>0.00</td>\n",
       "    </tr>\n",
       "    <tr>\n",
       "      <th>...</th>\n",
       "      <td>...</td>\n",
       "      <td>...</td>\n",
       "      <td>...</td>\n",
       "      <td>...</td>\n",
       "    </tr>\n",
       "    <tr>\n",
       "      <th>WS</th>\n",
       "      <td>0.0</td>\n",
       "      <td>0.00</td>\n",
       "      <td>0.0</td>\n",
       "      <td>3950.00</td>\n",
       "    </tr>\n",
       "    <tr>\n",
       "      <th>YE</th>\n",
       "      <td>0.0</td>\n",
       "      <td>0.00</td>\n",
       "      <td>0.0</td>\n",
       "      <td>10964.42</td>\n",
       "    </tr>\n",
       "    <tr>\n",
       "      <th>ZM</th>\n",
       "      <td>0.0</td>\n",
       "      <td>0.00</td>\n",
       "      <td>0.0</td>\n",
       "      <td>4114926.00</td>\n",
       "    </tr>\n",
       "    <tr>\n",
       "      <th>ZR</th>\n",
       "      <td>0.0</td>\n",
       "      <td>0.00</td>\n",
       "      <td>0.0</td>\n",
       "      <td>128111.67</td>\n",
       "    </tr>\n",
       "    <tr>\n",
       "      <th>ZW</th>\n",
       "      <td>0.0</td>\n",
       "      <td>0.00</td>\n",
       "      <td>0.0</td>\n",
       "      <td>34860.49</td>\n",
       "    </tr>\n",
       "  </tbody>\n",
       "</table>\n",
       "<p>84 rows × 4 columns</p>\n",
       "</div>"
      ],
      "text/plain": [
       "              Chargeback   Deposits  Refund    Withdraw\n",
       "Company Name                                           \n",
       "AD                   0.0  155364.61     0.0        0.00\n",
       "AF                   0.0   11679.29     0.0        0.00\n",
       "AI                   0.0     593.00     0.0        0.00\n",
       "AL                  10.0       0.00     0.0        0.00\n",
       "AM                   0.0   16465.00     0.0        0.00\n",
       "...                  ...        ...     ...         ...\n",
       "WS                   0.0       0.00     0.0     3950.00\n",
       "YE                   0.0       0.00     0.0    10964.42\n",
       "ZM                   0.0       0.00     0.0  4114926.00\n",
       "ZR                   0.0       0.00     0.0   128111.67\n",
       "ZW                   0.0       0.00     0.0    34860.49\n",
       "\n",
       "[84 rows x 4 columns]"
      ]
     },
     "execution_count": 44,
     "metadata": {},
     "output_type": "execute_result"
    }
   ],
   "source": [
    "company_pivotal"
   ]
  },
  {
   "cell_type": "code",
   "execution_count": 45,
   "id": "0bef629f",
   "metadata": {},
   "outputs": [],
   "source": [
    "company_pivotal['expenses']=company_pivotal.iloc[:,[0,2,3]].sum(axis=1)"
   ]
  },
  {
   "cell_type": "code",
   "execution_count": 46,
   "id": "83ad1da8",
   "metadata": {},
   "outputs": [],
   "source": [
    "company_pivotal.reset_index(inplace=True)"
   ]
  },
  {
   "cell_type": "code",
   "execution_count": 47,
   "id": "e8ce3897",
   "metadata": {},
   "outputs": [
    {
     "data": {
      "text/html": [
       "<div>\n",
       "<style scoped>\n",
       "    .dataframe tbody tr th:only-of-type {\n",
       "        vertical-align: middle;\n",
       "    }\n",
       "\n",
       "    .dataframe tbody tr th {\n",
       "        vertical-align: top;\n",
       "    }\n",
       "\n",
       "    .dataframe thead th {\n",
       "        text-align: right;\n",
       "    }\n",
       "</style>\n",
       "<table border=\"1\" class=\"dataframe\">\n",
       "  <thead>\n",
       "    <tr style=\"text-align: right;\">\n",
       "      <th></th>\n",
       "      <th>Company Name</th>\n",
       "      <th>Chargeback</th>\n",
       "      <th>Deposits</th>\n",
       "      <th>Refund</th>\n",
       "      <th>Withdraw</th>\n",
       "      <th>expenses</th>\n",
       "    </tr>\n",
       "  </thead>\n",
       "  <tbody>\n",
       "    <tr>\n",
       "      <th>0</th>\n",
       "      <td>AD</td>\n",
       "      <td>0.0</td>\n",
       "      <td>155364.61</td>\n",
       "      <td>0.0</td>\n",
       "      <td>0.0</td>\n",
       "      <td>0.0</td>\n",
       "    </tr>\n",
       "    <tr>\n",
       "      <th>1</th>\n",
       "      <td>AF</td>\n",
       "      <td>0.0</td>\n",
       "      <td>11679.29</td>\n",
       "      <td>0.0</td>\n",
       "      <td>0.0</td>\n",
       "      <td>0.0</td>\n",
       "    </tr>\n",
       "    <tr>\n",
       "      <th>2</th>\n",
       "      <td>AI</td>\n",
       "      <td>0.0</td>\n",
       "      <td>593.00</td>\n",
       "      <td>0.0</td>\n",
       "      <td>0.0</td>\n",
       "      <td>0.0</td>\n",
       "    </tr>\n",
       "    <tr>\n",
       "      <th>3</th>\n",
       "      <td>AL</td>\n",
       "      <td>10.0</td>\n",
       "      <td>0.00</td>\n",
       "      <td>0.0</td>\n",
       "      <td>0.0</td>\n",
       "      <td>10.0</td>\n",
       "    </tr>\n",
       "    <tr>\n",
       "      <th>4</th>\n",
       "      <td>AM</td>\n",
       "      <td>0.0</td>\n",
       "      <td>16465.00</td>\n",
       "      <td>0.0</td>\n",
       "      <td>0.0</td>\n",
       "      <td>0.0</td>\n",
       "    </tr>\n",
       "  </tbody>\n",
       "</table>\n",
       "</div>"
      ],
      "text/plain": [
       "  Company Name  Chargeback   Deposits  Refund  Withdraw  expenses\n",
       "0           AD         0.0  155364.61     0.0       0.0       0.0\n",
       "1           AF         0.0   11679.29     0.0       0.0       0.0\n",
       "2           AI         0.0     593.00     0.0       0.0       0.0\n",
       "3           AL        10.0       0.00     0.0       0.0      10.0\n",
       "4           AM         0.0   16465.00     0.0       0.0       0.0"
      ]
     },
     "execution_count": 47,
     "metadata": {},
     "output_type": "execute_result"
    }
   ],
   "source": [
    "company_pivotal.head()"
   ]
  },
  {
   "cell_type": "code",
   "execution_count": 48,
   "id": "2d99c80f",
   "metadata": {},
   "outputs": [],
   "source": [
    "company_pivotal['net_income']=company_pivotal['Deposits']-company_pivotal['expenses']"
   ]
  },
  {
   "cell_type": "code",
   "execution_count": 49,
   "id": "56f77e38",
   "metadata": {},
   "outputs": [
    {
     "data": {
      "text/html": [
       "<div>\n",
       "<style scoped>\n",
       "    .dataframe tbody tr th:only-of-type {\n",
       "        vertical-align: middle;\n",
       "    }\n",
       "\n",
       "    .dataframe tbody tr th {\n",
       "        vertical-align: top;\n",
       "    }\n",
       "\n",
       "    .dataframe thead th {\n",
       "        text-align: right;\n",
       "    }\n",
       "</style>\n",
       "<table border=\"1\" class=\"dataframe\">\n",
       "  <thead>\n",
       "    <tr style=\"text-align: right;\">\n",
       "      <th></th>\n",
       "      <th>Company Name</th>\n",
       "      <th>Chargeback</th>\n",
       "      <th>Deposits</th>\n",
       "      <th>Refund</th>\n",
       "      <th>Withdraw</th>\n",
       "      <th>expenses</th>\n",
       "      <th>net_income</th>\n",
       "    </tr>\n",
       "  </thead>\n",
       "  <tbody>\n",
       "    <tr>\n",
       "      <th>44</th>\n",
       "      <td>GE</td>\n",
       "      <td>0.0</td>\n",
       "      <td>13062777.64</td>\n",
       "      <td>0.0</td>\n",
       "      <td>0.0</td>\n",
       "      <td>0.0</td>\n",
       "      <td>13062777.64</td>\n",
       "    </tr>\n",
       "    <tr>\n",
       "      <th>47</th>\n",
       "      <td>GI</td>\n",
       "      <td>0.0</td>\n",
       "      <td>6073521.49</td>\n",
       "      <td>0.0</td>\n",
       "      <td>0.0</td>\n",
       "      <td>0.0</td>\n",
       "      <td>6073521.49</td>\n",
       "    </tr>\n",
       "    <tr>\n",
       "      <th>31</th>\n",
       "      <td>BZ</td>\n",
       "      <td>0.0</td>\n",
       "      <td>5290075.57</td>\n",
       "      <td>0.0</td>\n",
       "      <td>0.0</td>\n",
       "      <td>0.0</td>\n",
       "      <td>5290075.57</td>\n",
       "    </tr>\n",
       "    <tr>\n",
       "      <th>74</th>\n",
       "      <td>VE</td>\n",
       "      <td>0.0</td>\n",
       "      <td>1818519.41</td>\n",
       "      <td>0.0</td>\n",
       "      <td>0.0</td>\n",
       "      <td>0.0</td>\n",
       "      <td>1818519.41</td>\n",
       "    </tr>\n",
       "    <tr>\n",
       "      <th>78</th>\n",
       "      <td>VU</td>\n",
       "      <td>0.0</td>\n",
       "      <td>1755549.35</td>\n",
       "      <td>0.0</td>\n",
       "      <td>0.0</td>\n",
       "      <td>0.0</td>\n",
       "      <td>1755549.35</td>\n",
       "    </tr>\n",
       "  </tbody>\n",
       "</table>\n",
       "</div>"
      ],
      "text/plain": [
       "   Company Name  Chargeback     Deposits  Refund  Withdraw  expenses  \\\n",
       "44           GE         0.0  13062777.64     0.0       0.0       0.0   \n",
       "47           GI         0.0   6073521.49     0.0       0.0       0.0   \n",
       "31           BZ         0.0   5290075.57     0.0       0.0       0.0   \n",
       "74           VE         0.0   1818519.41     0.0       0.0       0.0   \n",
       "78           VU         0.0   1755549.35     0.0       0.0       0.0   \n",
       "\n",
       "     net_income  \n",
       "44  13062777.64  \n",
       "47   6073521.49  \n",
       "31   5290075.57  \n",
       "74   1818519.41  \n",
       "78   1755549.35  "
      ]
     },
     "execution_count": 49,
     "metadata": {},
     "output_type": "execute_result"
    }
   ],
   "source": [
    "company_pivotal.sort_values('net_income',ascending=False).iloc[0:5]"
   ]
  },
  {
   "cell_type": "markdown",
   "id": "509c545f-aa40-44ed-81d7-bf09381d5e22",
   "metadata": {},
   "source": [
    "<center><h1><b>Task_3</h1></b></center>"
   ]
  },
  {
   "cell_type": "code",
   "execution_count": 50,
   "id": "baf4f084-afbc-4060-9abf-abccdc82d8f7",
   "metadata": {},
   "outputs": [],
   "source": [
    "##according to data from task1-table2"
   ]
  },
  {
   "cell_type": "code",
   "execution_count": 51,
   "id": "4874b9a5",
   "metadata": {},
   "outputs": [
    {
     "data": {
      "text/html": [
       "<div>\n",
       "<style scoped>\n",
       "    .dataframe tbody tr th:only-of-type {\n",
       "        vertical-align: middle;\n",
       "    }\n",
       "\n",
       "    .dataframe tbody tr th {\n",
       "        vertical-align: top;\n",
       "    }\n",
       "\n",
       "    .dataframe thead th {\n",
       "        text-align: right;\n",
       "    }\n",
       "</style>\n",
       "<table border=\"1\" class=\"dataframe\">\n",
       "  <thead>\n",
       "    <tr style=\"text-align: right;\">\n",
       "      <th></th>\n",
       "      <th>name</th>\n",
       "      <th>Status</th>\n",
       "      <th>Type</th>\n",
       "      <th>Company Name</th>\n",
       "      <th>Amount</th>\n",
       "    </tr>\n",
       "  </thead>\n",
       "  <tbody>\n",
       "    <tr>\n",
       "      <th>0</th>\n",
       "      <td>Asia&amp;flash A</td>\n",
       "      <td>Success</td>\n",
       "      <td>Withdraw</td>\n",
       "      <td>ZW</td>\n",
       "      <td>34860.49</td>\n",
       "    </tr>\n",
       "    <tr>\n",
       "      <th>1</th>\n",
       "      <td>Asia&amp;flash L</td>\n",
       "      <td>Success</td>\n",
       "      <td>Withdraw</td>\n",
       "      <td>ZW</td>\n",
       "      <td>128111.67</td>\n",
       "    </tr>\n",
       "    <tr>\n",
       "      <th>2</th>\n",
       "      <td>Asia&amp;flash A</td>\n",
       "      <td>Success</td>\n",
       "      <td>Withdraw</td>\n",
       "      <td>ZW</td>\n",
       "      <td>4114926.00</td>\n",
       "    </tr>\n",
       "    <tr>\n",
       "      <th>3</th>\n",
       "      <td>Asia&amp;flash L</td>\n",
       "      <td>Success</td>\n",
       "      <td>Withdraw</td>\n",
       "      <td>ZW</td>\n",
       "      <td>10964.42</td>\n",
       "    </tr>\n",
       "    <tr>\n",
       "      <th>4</th>\n",
       "      <td>Asia&amp;flash L</td>\n",
       "      <td>Success</td>\n",
       "      <td>Withdraw</td>\n",
       "      <td>GF</td>\n",
       "      <td>3950.00</td>\n",
       "    </tr>\n",
       "  </tbody>\n",
       "</table>\n",
       "</div>"
      ],
      "text/plain": [
       "           name   Status      Type Company Name      Amount\n",
       "0  Asia&flash A  Success  Withdraw           ZW    34860.49\n",
       "1  Asia&flash L  Success  Withdraw           ZW   128111.67\n",
       "2  Asia&flash A  Success  Withdraw           ZW  4114926.00\n",
       "3  Asia&flash L  Success  Withdraw           ZW    10964.42\n",
       "4  Asia&flash L  Success  Withdraw           GF     3950.00"
      ]
     },
     "execution_count": 51,
     "metadata": {},
     "output_type": "execute_result"
    }
   ],
   "source": [
    "table2.head()"
   ]
  },
  {
   "cell_type": "code",
   "execution_count": 52,
   "id": "9032397a",
   "metadata": {},
   "outputs": [],
   "source": [
    "success_table2=table2[table2['Status']=='Success']"
   ]
  },
  {
   "cell_type": "code",
   "execution_count": 53,
   "id": "ed5f9d6e",
   "metadata": {},
   "outputs": [],
   "source": [
    "company_pivotal_2=pd.DataFrame(success_table2.groupby([\"Company Name\",'Type'])[\"Amount\"].sum()).unstack().fillna(0)"
   ]
  },
  {
   "cell_type": "code",
   "execution_count": 54,
   "id": "06dc6cb6",
   "metadata": {},
   "outputs": [
    {
     "data": {
      "text/html": [
       "<div>\n",
       "<style scoped>\n",
       "    .dataframe tbody tr th:only-of-type {\n",
       "        vertical-align: middle;\n",
       "    }\n",
       "\n",
       "    .dataframe tbody tr th {\n",
       "        vertical-align: top;\n",
       "    }\n",
       "\n",
       "    .dataframe thead tr th {\n",
       "        text-align: left;\n",
       "    }\n",
       "</style>\n",
       "<table border=\"1\" class=\"dataframe\">\n",
       "  <thead>\n",
       "    <tr>\n",
       "      <th></th>\n",
       "      <th>Company Name</th>\n",
       "      <th colspan=\"4\" halign=\"left\">Amount</th>\n",
       "    </tr>\n",
       "    <tr>\n",
       "      <th>Type</th>\n",
       "      <th></th>\n",
       "      <th>Chargeback</th>\n",
       "      <th>Deposits</th>\n",
       "      <th>Refund</th>\n",
       "      <th>Withdraw</th>\n",
       "    </tr>\n",
       "  </thead>\n",
       "  <tbody>\n",
       "    <tr>\n",
       "      <th>0</th>\n",
       "      <td>AA</td>\n",
       "      <td>500.00</td>\n",
       "      <td>1473915.81</td>\n",
       "      <td>0.00</td>\n",
       "      <td>0.00</td>\n",
       "    </tr>\n",
       "    <tr>\n",
       "      <th>1</th>\n",
       "      <td>DJ</td>\n",
       "      <td>0.00</td>\n",
       "      <td>0.00</td>\n",
       "      <td>50899.95</td>\n",
       "      <td>0.00</td>\n",
       "    </tr>\n",
       "    <tr>\n",
       "      <th>2</th>\n",
       "      <td>FD</td>\n",
       "      <td>0.00</td>\n",
       "      <td>22810953.77</td>\n",
       "      <td>0.00</td>\n",
       "      <td>32206253.60</td>\n",
       "    </tr>\n",
       "    <tr>\n",
       "      <th>3</th>\n",
       "      <td>GF</td>\n",
       "      <td>0.00</td>\n",
       "      <td>21954337.58</td>\n",
       "      <td>10.00</td>\n",
       "      <td>3641588.81</td>\n",
       "    </tr>\n",
       "    <tr>\n",
       "      <th>4</th>\n",
       "      <td>OK</td>\n",
       "      <td>4121167.25</td>\n",
       "      <td>11692946.89</td>\n",
       "      <td>0.00</td>\n",
       "      <td>9707786.84</td>\n",
       "    </tr>\n",
       "  </tbody>\n",
       "</table>\n",
       "</div>"
      ],
      "text/plain": [
       "     Company Name      Amount                                    \n",
       "Type               Chargeback     Deposits    Refund     Withdraw\n",
       "0              AA      500.00   1473915.81      0.00         0.00\n",
       "1              DJ        0.00         0.00  50899.95         0.00\n",
       "2              FD        0.00  22810953.77      0.00  32206253.60\n",
       "3              GF        0.00  21954337.58     10.00   3641588.81\n",
       "4              OK  4121167.25  11692946.89      0.00   9707786.84"
      ]
     },
     "execution_count": 54,
     "metadata": {},
     "output_type": "execute_result"
    }
   ],
   "source": [
    "company_pivotal_2.head().reset_index()"
   ]
  },
  {
   "cell_type": "code",
   "execution_count": 55,
   "id": "fac6649d",
   "metadata": {},
   "outputs": [],
   "source": [
    "company_pivotal_2.columns=['Chargeback','Deposits','Refund','Withdraw']"
   ]
  },
  {
   "cell_type": "code",
   "execution_count": 56,
   "id": "d961d088",
   "metadata": {},
   "outputs": [],
   "source": [
    "company_pivotal_2['expenses']=company_pivotal_2.iloc[:,[0,2,3]].sum(axis=1)"
   ]
  },
  {
   "cell_type": "code",
   "execution_count": 57,
   "id": "77e2edc0",
   "metadata": {},
   "outputs": [],
   "source": [
    "company_pivotal_2.reset_index(inplace=True)"
   ]
  },
  {
   "cell_type": "code",
   "execution_count": 58,
   "id": "69092dc7",
   "metadata": {},
   "outputs": [
    {
     "data": {
      "text/html": [
       "<div>\n",
       "<style scoped>\n",
       "    .dataframe tbody tr th:only-of-type {\n",
       "        vertical-align: middle;\n",
       "    }\n",
       "\n",
       "    .dataframe tbody tr th {\n",
       "        vertical-align: top;\n",
       "    }\n",
       "\n",
       "    .dataframe thead th {\n",
       "        text-align: right;\n",
       "    }\n",
       "</style>\n",
       "<table border=\"1\" class=\"dataframe\">\n",
       "  <thead>\n",
       "    <tr style=\"text-align: right;\">\n",
       "      <th></th>\n",
       "      <th>Company Name</th>\n",
       "      <th>Chargeback</th>\n",
       "      <th>Deposits</th>\n",
       "      <th>Refund</th>\n",
       "      <th>Withdraw</th>\n",
       "      <th>expenses</th>\n",
       "    </tr>\n",
       "  </thead>\n",
       "  <tbody>\n",
       "    <tr>\n",
       "      <th>0</th>\n",
       "      <td>AA</td>\n",
       "      <td>500.00</td>\n",
       "      <td>1473915.81</td>\n",
       "      <td>0.00</td>\n",
       "      <td>0.00</td>\n",
       "      <td>500.00</td>\n",
       "    </tr>\n",
       "    <tr>\n",
       "      <th>1</th>\n",
       "      <td>DJ</td>\n",
       "      <td>0.00</td>\n",
       "      <td>0.00</td>\n",
       "      <td>50899.95</td>\n",
       "      <td>0.00</td>\n",
       "      <td>50899.95</td>\n",
       "    </tr>\n",
       "    <tr>\n",
       "      <th>2</th>\n",
       "      <td>FD</td>\n",
       "      <td>0.00</td>\n",
       "      <td>22810953.77</td>\n",
       "      <td>0.00</td>\n",
       "      <td>32206253.60</td>\n",
       "      <td>32206253.60</td>\n",
       "    </tr>\n",
       "    <tr>\n",
       "      <th>3</th>\n",
       "      <td>GF</td>\n",
       "      <td>0.00</td>\n",
       "      <td>21954337.58</td>\n",
       "      <td>10.00</td>\n",
       "      <td>3641588.81</td>\n",
       "      <td>3641598.81</td>\n",
       "    </tr>\n",
       "    <tr>\n",
       "      <th>4</th>\n",
       "      <td>OK</td>\n",
       "      <td>4121167.25</td>\n",
       "      <td>11692946.89</td>\n",
       "      <td>0.00</td>\n",
       "      <td>9707786.84</td>\n",
       "      <td>13828954.09</td>\n",
       "    </tr>\n",
       "    <tr>\n",
       "      <th>5</th>\n",
       "      <td>ZW</td>\n",
       "      <td>34860.49</td>\n",
       "      <td>548726.36</td>\n",
       "      <td>0.00</td>\n",
       "      <td>34047149.90</td>\n",
       "      <td>34082010.39</td>\n",
       "    </tr>\n",
       "  </tbody>\n",
       "</table>\n",
       "</div>"
      ],
      "text/plain": [
       "  Company Name  Chargeback     Deposits    Refund     Withdraw     expenses\n",
       "0           AA      500.00   1473915.81      0.00         0.00       500.00\n",
       "1           DJ        0.00         0.00  50899.95         0.00     50899.95\n",
       "2           FD        0.00  22810953.77      0.00  32206253.60  32206253.60\n",
       "3           GF        0.00  21954337.58     10.00   3641588.81   3641598.81\n",
       "4           OK  4121167.25  11692946.89      0.00   9707786.84  13828954.09\n",
       "5           ZW    34860.49    548726.36      0.00  34047149.90  34082010.39"
      ]
     },
     "execution_count": 58,
     "metadata": {},
     "output_type": "execute_result"
    }
   ],
   "source": [
    "company_pivotal_2"
   ]
  },
  {
   "cell_type": "code",
   "execution_count": 59,
   "id": "9d064d6d",
   "metadata": {},
   "outputs": [],
   "source": [
    "company_pivotal_2['net_income']=company_pivotal_2['Deposits']-company_pivotal_2['expenses']"
   ]
  },
  {
   "cell_type": "code",
   "execution_count": 60,
   "id": "5123db5a",
   "metadata": {},
   "outputs": [
    {
     "data": {
      "text/html": [
       "<div>\n",
       "<style scoped>\n",
       "    .dataframe tbody tr th:only-of-type {\n",
       "        vertical-align: middle;\n",
       "    }\n",
       "\n",
       "    .dataframe tbody tr th {\n",
       "        vertical-align: top;\n",
       "    }\n",
       "\n",
       "    .dataframe thead th {\n",
       "        text-align: right;\n",
       "    }\n",
       "</style>\n",
       "<table border=\"1\" class=\"dataframe\">\n",
       "  <thead>\n",
       "    <tr style=\"text-align: right;\">\n",
       "      <th></th>\n",
       "      <th>Company Name</th>\n",
       "      <th>Chargeback</th>\n",
       "      <th>Deposits</th>\n",
       "      <th>Refund</th>\n",
       "      <th>Withdraw</th>\n",
       "      <th>expenses</th>\n",
       "      <th>net_income</th>\n",
       "    </tr>\n",
       "  </thead>\n",
       "  <tbody>\n",
       "    <tr>\n",
       "      <th>0</th>\n",
       "      <td>AA</td>\n",
       "      <td>500.00</td>\n",
       "      <td>1473915.81</td>\n",
       "      <td>0.00</td>\n",
       "      <td>0.00</td>\n",
       "      <td>500.00</td>\n",
       "      <td>1473415.81</td>\n",
       "    </tr>\n",
       "    <tr>\n",
       "      <th>1</th>\n",
       "      <td>DJ</td>\n",
       "      <td>0.00</td>\n",
       "      <td>0.00</td>\n",
       "      <td>50899.95</td>\n",
       "      <td>0.00</td>\n",
       "      <td>50899.95</td>\n",
       "      <td>-50899.95</td>\n",
       "    </tr>\n",
       "    <tr>\n",
       "      <th>2</th>\n",
       "      <td>FD</td>\n",
       "      <td>0.00</td>\n",
       "      <td>22810953.77</td>\n",
       "      <td>0.00</td>\n",
       "      <td>32206253.60</td>\n",
       "      <td>32206253.60</td>\n",
       "      <td>-9395299.83</td>\n",
       "    </tr>\n",
       "    <tr>\n",
       "      <th>3</th>\n",
       "      <td>GF</td>\n",
       "      <td>0.00</td>\n",
       "      <td>21954337.58</td>\n",
       "      <td>10.00</td>\n",
       "      <td>3641588.81</td>\n",
       "      <td>3641598.81</td>\n",
       "      <td>18312738.77</td>\n",
       "    </tr>\n",
       "    <tr>\n",
       "      <th>4</th>\n",
       "      <td>OK</td>\n",
       "      <td>4121167.25</td>\n",
       "      <td>11692946.89</td>\n",
       "      <td>0.00</td>\n",
       "      <td>9707786.84</td>\n",
       "      <td>13828954.09</td>\n",
       "      <td>-2136007.20</td>\n",
       "    </tr>\n",
       "    <tr>\n",
       "      <th>5</th>\n",
       "      <td>ZW</td>\n",
       "      <td>34860.49</td>\n",
       "      <td>548726.36</td>\n",
       "      <td>0.00</td>\n",
       "      <td>34047149.90</td>\n",
       "      <td>34082010.39</td>\n",
       "      <td>-33533284.03</td>\n",
       "    </tr>\n",
       "  </tbody>\n",
       "</table>\n",
       "</div>"
      ],
      "text/plain": [
       "  Company Name  Chargeback     Deposits    Refund     Withdraw     expenses  \\\n",
       "0           AA      500.00   1473915.81      0.00         0.00       500.00   \n",
       "1           DJ        0.00         0.00  50899.95         0.00     50899.95   \n",
       "2           FD        0.00  22810953.77      0.00  32206253.60  32206253.60   \n",
       "3           GF        0.00  21954337.58     10.00   3641588.81   3641598.81   \n",
       "4           OK  4121167.25  11692946.89      0.00   9707786.84  13828954.09   \n",
       "5           ZW    34860.49    548726.36      0.00  34047149.90  34082010.39   \n",
       "\n",
       "    net_income  \n",
       "0   1473415.81  \n",
       "1    -50899.95  \n",
       "2  -9395299.83  \n",
       "3  18312738.77  \n",
       "4  -2136007.20  \n",
       "5 -33533284.03  "
      ]
     },
     "execution_count": 60,
     "metadata": {},
     "output_type": "execute_result"
    }
   ],
   "source": [
    "company_pivotal_2"
   ]
  }
 ],
 "metadata": {
  "kernelspec": {
   "display_name": "Python 3 (ipykernel)",
   "language": "python",
   "name": "python3"
  },
  "language_info": {
   "codemirror_mode": {
    "name": "ipython",
    "version": 3
   },
   "file_extension": ".py",
   "mimetype": "text/x-python",
   "name": "python",
   "nbconvert_exporter": "python",
   "pygments_lexer": "ipython3",
   "version": "3.11.7"
  }
 },
 "nbformat": 4,
 "nbformat_minor": 5
}
